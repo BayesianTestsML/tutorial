{
 "cells": [
  {
   "cell_type": "markdown",
   "metadata": {
    "slideshow": {
     "slide_type": "slide"
    }
   },
   "source": [
    "\n",
    "# Pre-Bayesian Comparison of Classifiers :)"
   ]
  },
  {
   "cell_type": "markdown",
   "metadata": {
    "slideshow": {
     "slide_type": "subslide"
    }
   },
   "source": [
    "## Null-Hypothesis Significance Tests\n",
    "\n",
    "  \n",
    "### A quick reintroduction"
   ]
  },
  {
   "cell_type": "code",
   "execution_count": 1,
   "metadata": {
    "collapsed": false,
    "slideshow": {
     "slide_type": "fragment"
    }
   },
   "outputs": [],
   "source": [
    "import numpy as np\n",
    "\n",
    "scores_a = np.array([ 95.95,  71.4 ,  83.34,  49.99,  76.17,  86.22,  84.45,  81.87, 52.81,  75.04,  71.94,  50.12,  72.03,  60.  ,  83.69])\n",
    "scores_b = np.array([ 97.88,  71.66,  82.87,  50.71,  74.17,  86.68,  85.46,  82.02, 60.08,  75.83,  74.53,  45.76,  72.65,  60.  ,  84.31])"
   ]
  },
  {
   "cell_type": "code",
   "execution_count": 2,
   "metadata": {
    "collapsed": false,
    "slideshow": {
     "slide_type": "fragment"
    }
   },
   "outputs": [
    {
     "data": {
      "text/plain": [
       "(3, 1, 11)"
      ]
     },
     "execution_count": 2,
     "metadata": {},
     "output_type": "execute_result"
    }
   ],
   "source": [
    "sum(scores_a > scores_b), sum(scores_a == scores_b), sum(scores_b > scores_a)"
   ]
  },
  {
   "cell_type": "code",
   "execution_count": 3,
   "metadata": {
    "collapsed": false,
    "slideshow": {
     "slide_type": "slide"
    }
   },
   "outputs": [],
   "source": [
    "# Disclaimer: This is not an exemplary use of Python.\n",
    "# The code is optimized for those who are not used to it.\n",
    "\n",
    "from random import random\n",
    "\n",
    "results = []\n",
    "for match in range(1000):\n",
    "    wins = 0\n",
    "    for dataset in range(15):\n",
    "        if random() < 0.5:\n",
    "            wins += 1\n",
    "    results.append(wins)"
   ]
  },
  {
   "cell_type": "code",
   "execution_count": 4,
   "metadata": {
    "collapsed": false,
    "slideshow": {
     "slide_type": "fragment"
    }
   },
   "outputs": [
    {
     "name": "stdout",
     "output_type": "stream",
     "text": [
      "[  1   1   3  17  47 108 138 190 194 161  90  34  14   2   0]\n"
     ]
    }
   ],
   "source": [
    "wins = np.bincount(results, minlength=15)\n",
    "print(wins)"
   ]
  },
  {
   "cell_type": "code",
   "execution_count": 5,
   "metadata": {
    "collapsed": false,
    "slideshow": {
     "slide_type": "slide"
    }
   },
   "outputs": [
    {
     "data": {
      "image/png": "[encoded data removed]",
      "text/plain": [
       "<matplotlib.figure.Figure at 0x110127080>"
      ]
     },
     "metadata": {},
     "output_type": "display_data"
    }
   ],
   "source": [
    "%matplotlib inline\n",
    "\n",
    "import matplotlib\n",
    "import matplotlib.pyplot as plt\n",
    "\n",
    "_ = plt.bar(range(15), wins)"
   ]
  },
  {
   "cell_type": "code",
   "execution_count": 6,
   "metadata": {
    "collapsed": false,
    "slideshow": {
     "slide_type": "fragment"
    }
   },
   "outputs": [
    {
     "data": {
      "text/plain": [
       "50"
      ]
     },
     "execution_count": 6,
     "metadata": {},
     "output_type": "execute_result"
    }
   ],
   "source": [
    "sum(wins[11:])"
   ]
  },
  {
   "cell_type": "markdown",
   "metadata": {
    "slideshow": {
     "slide_type": "slide"
    }
   },
   "source": [
    "## The logic of the test\n",
    "\n",
    "There is around 6 % chance (60 out of 1000) that B will win 11 or more matches if the algorithms were actually same."
   ]
  },
  {
   "cell_type": "markdown",
   "metadata": {
    "slideshow": {
     "slide_type": "fragment"
    }
   },
   "source": [
    "Since such a result is so unlikely, we reject the idea that A and B perform the same."
   ]
  },
  {
   "cell_type": "markdown",
   "metadata": {
    "slideshow": {
     "slide_type": "slide"
    }
   },
   "source": [
    "## Testing without sweating\n",
    "\n",
    "Compute distributions analytically.\n",
    "\n",
    "In this case: binomial distribution.\n",
    "\n",
    "The whole exercise above is called the sign test."
   ]
  },
  {
   "cell_type": "markdown",
   "metadata": {
    "slideshow": {
     "slide_type": "slide"
    }
   },
   "source": [
    "# Tests that you can actually use\n",
    "\n",
    "## (but perhaps shouldn't)"
   ]
  },
  {
   "cell_type": "markdown",
   "metadata": {
    "slideshow": {
     "slide_type": "slide"
    }
   },
   "source": [
    "## A Pair of Classifiers\n",
    "\n",
    "### Wilcoxon signed-ranks test"
   ]
  },
  {
   "cell_type": "code",
   "execution_count": 7,
   "metadata": {
    "collapsed": false,
    "slideshow": {
     "slide_type": "fragment"
    }
   },
   "outputs": [
    {
     "data": {
      "text/plain": [
       "WilcoxonResult(statistic=28.0, pvalue=0.12395016441234137)"
      ]
     },
     "execution_count": 7,
     "metadata": {},
     "output_type": "execute_result"
    }
   ],
   "source": [
    "import scipy.stats\n",
    "scipy.stats.wilcoxon(scores_a, scores_b)"
   ]
  },
  {
   "cell_type": "markdown",
   "metadata": {
    "collapsed": true,
    "slideshow": {
     "slide_type": "slide"
    }
   },
   "source": [
    "## Multiple classifiers\n",
    "\n",
    "### Friedman test"
   ]
  },
  {
   "cell_type": "code",
   "execution_count": 8,
   "metadata": {
    "collapsed": true,
    "slideshow": {
     "slide_type": "fragment"
    }
   },
   "outputs": [],
   "source": [
    "scores = np.array(\n",
    "      [[  95.94595,   97.88477,   98.19664,   98.64226,   98.65337],\n",
    "       [  71.39521,   71.6561 ,   73.14819,   77.2214 ,   77.26883],\n",
    "       [  83.3377 ,   82.87099,   81.95057,   77.1957 ,   77.22797],\n",
    "       [  49.98591,   50.70515,   51.71036,   49.49834,   49.53232],\n",
    "       [  76.16673,   74.16672,   61.00001,   83.50006,   83.50006],\n",
    "       [  86.21744,   86.68119,   84.88411,   86.28991,   86.40586],\n",
    "       [  84.44935,   85.46383,   84.30431,   85.05801,   85.14497],\n",
    "       [  81.87252,   82.02315,   80.12298,   80.21214,   80.41979],\n",
    "       [  52.8114 ,   60.08016,   63.39823,   64.20668,   64.19279],\n",
    "       [  75.04   ,   75.83   ,   75.65   ,   72.17   ,   72.17   ],\n",
    "       [  71.93504,   74.5346 ,   73.77053,   72.31167,   72.31384],\n",
    "       [  50.12499,   45.7625 ,   38.66669,   39.66248,   40.04585],\n",
    "       [  72.03123,   72.64526,   72.31939,   71.50976,   71.57642],\n",
    "       [  60.     ,   60.     ,   56.9375 ,   60.     ,   60.     ],\n",
    "       [  83.6875 ,   84.3125 ,   85.54998,   78.57087,   79.08754],\n",
    "       [  84.36091,   84.42988,   84.80345,   80.51726,   80.58623],\n",
    "       [  98.31118,   98.52327,   99.05625,   99.18611,   99.17557],\n",
    "       [  89.40237,   91.0858 ,   91.48102,   90.11586,   90.14524],\n",
    "       [  93.33322,   93.06656,   92.06654,   93.59991,   93.59991],\n",
    "       [  87.79086,   91.03252,   92.34689,   99.43702,   99.39943],\n",
    "       [  87.59993,   88.43326,   91.59994,   85.79996,   85.39996],\n",
    "       [  56.84723,   56.84723,   56.61866,   56.84723,   56.84723],\n",
    "       [  85.09998,   86.86189,   85.57139,   76.37137,   77.24757],\n",
    "       [  62.66532,   64.52785,   66.24374,   64.09357,   64.07691],\n",
    "       [  74.63639,   84.63801,  100.     ,   97.80228,   97.80228],\n",
    "       [  96.38929,   96.73215,   97.99556,   98.91727,   98.91727],\n",
    "       [  95.76072,   99.9508 ,   99.9631 ,  100.     ,  100.     ],\n",
    "       [  90.29939,   92.73304,   94.24765,   97.18137,   97.18986],\n",
    "       [  92.16903,   96.91635,   96.21347,   78.59252,   80.38254],\n",
    "       [  93.37478,   96.92301,   96.67273,   96.60513,   96.54662],\n",
    "       [  80.41671,   79.83337,   83.16672,   73.16674,   73.66674],\n",
    "       [  87.72004,   97.76273,   97.66812,   88.61625,   89.56246],\n",
    "       [  75.26002,   75.70347,   74.56967,   74.32345,   74.31062],\n",
    "       [  68.11142,   66.77809,   65.1114 ,   69.77806,   69.77806],\n",
    "       [  47.19786,   47.87167,   47.8458 ,   41.00794,   40.94911],\n",
    "       [  91.14715,   95.06921,   96.47191,   94.14284,   94.09091],\n",
    "       [  85.59372,   88.36932,   88.61455,   88.9546 ,   88.9546 ],\n",
    "       [  86.62217,   87.31057,   87.46307,   89.9792 ,   90.01045],\n",
    "       [  93.81435,   97.81069,   97.31636,   97.841  ,   97.841  ],\n",
    "       [  76.71185,   77.04996,   76.12854,   74.67613,   74.86423],\n",
    "       [  92.19582,   93.30815,   94.6709 ,   92.63445,   93.03048],\n",
    "       [  89.82622,   93.11031,   92.27349,   92.85163,   93.22753],\n",
    "       [  79.21932,   80.90305,   81.80477,   81.05974,   81.51275],\n",
    "       [  95.41686,   96.11599,   96.13167,   94.16605,   94.15662],\n",
    "       [  59.03334,   59.4    ,   57.46667,   63.5    ,   63.5    ],\n",
    "       [  62.06667,   67.66667,   71.79999,   77.66667,   77.5    ],\n",
    "       [  46.32085,   46.72085,   43.93333,   46.78335,   46.78335],\n",
    "       [  58.78783,   75.69693,   84.60603,   76.53533,   76.68688],\n",
    "       [  79.968  ,   85.008  ,   84.874  ,   74.872  ,   75.522  ],\n",
    "       [  64.92861,   66.7381 ,   77.90477,   60.95248,   60.95248],\n",
    "       [  98.70582,   98.2058 ,   97.58814,   90.72864,   90.94432],\n",
    "       [  97.19638,   97.05376,   96.36779,   95.03683,   95.28029],\n",
    "       [  57.61428,   57.81658,   57.73517,   57.0753 ,   57.08878],\n",
    "       [  93.98181,   94.66363,   99.6    ,   92.60908,   92.60908]])"
   ]
  },
  {
   "cell_type": "code",
   "execution_count": 9,
   "metadata": {
    "collapsed": false,
    "slideshow": {
     "slide_type": "subslide"
    }
   },
   "outputs": [
    {
     "data": {
      "text/plain": [
       "FriedmanchisquareResult(statistic=20.840496657115558, pvalue=0.00034058004490788676)"
      ]
     },
     "execution_count": 9,
     "metadata": {},
     "output_type": "execute_result"
    }
   ],
   "source": [
    "scipy.stats.friedmanchisquare(scores[:, 0], scores[:, 1], scores[:, 2], scores[:, 3], scores[:, 4])"
   ]
  },
  {
   "cell_type": "code",
   "execution_count": 10,
   "metadata": {
    "collapsed": false,
    "slideshow": {
     "slide_type": "subslide"
    }
   },
   "outputs": [
    {
     "data": {
      "text/plain": [
       "FriedmanchisquareResult(statistic=20.840496657115558, pvalue=0.00034058004490788676)"
      ]
     },
     "execution_count": 10,
     "metadata": {},
     "output_type": "execute_result"
    }
   ],
   "source": [
    "scipy.stats.friedmanchisquare(*scores.T)"
   ]
  },
  {
   "cell_type": "markdown",
   "metadata": {
    "slideshow": {
     "slide_type": "slide"
    }
   },
   "source": [
    "## Summary"
   ]
  },
  {
   "cell_type": "markdown",
   "metadata": {
    "slideshow": {
     "slide_type": "fragment"
    }
   },
   "source": [
    "Null-hypothesis significance tests are magic bullet."
   ]
  },
  {
   "cell_type": "markdown",
   "metadata": {
    "slideshow": {
     "slide_type": "subslide"
    }
   },
   "source": [
    "1. Formulate hypothesis.\n",
    "2. Get the data.\n",
    "3. Put it through the appropriate test."
   ]
  },
  {
   "cell_type": "markdown",
   "metadata": {
    "slideshow": {
     "slide_type": "subslide"
    }
   },
   "source": [
    "Null-hypothesis significance tests automatize science."
   ]
  },
  {
   "cell_type": "markdown",
   "metadata": {
    "slideshow": {
     "slide_type": "slide"
    }
   },
   "source": [
    "# Arguments against NHST"
   ]
  },
  {
   "cell_type": "markdown",
   "metadata": {
    "slideshow": {
     "slide_type": "slide"
    }
   },
   "source": [
    "### The flawed logic of NHST"
   ]
  },
  {
   "cell_type": "markdown",
   "metadata": {
    "slideshow": {
     "slide_type": "fragment"
    }
   },
   "source": [
    "- If the null-hypothesis was true, algorithm A should have won 7 matches out of 14.\n",
    "\n",
    "- Algorithm A did not win 7 matches.\n",
    "\n",
    "=> The hypothesis is false."
   ]
  },
  {
   "cell_type": "markdown",
   "metadata": {
    "slideshow": {
     "slide_type": "subslide"
    }
   },
   "source": [
    "All trees are green; I am not green; hence, I'm not a tree."
   ]
  },
  {
   "cell_type": "markdown",
   "metadata": {
    "slideshow": {
     "slide_type": "subslide"
    }
   },
   "source": [
    "Null-hypothesis is probabilistic:\n",
    "\n",
    "- If the null hypothesis is true, the number of wins is *unlikely* to be 11.\n",
    "\n",
    "- But the number of wins *is* 11.\n",
    "\n",
    "=>  So the null-hypothesis is *unlikely* to be true."
   ]
  },
  {
   "cell_type": "markdown",
   "metadata": {
    "slideshow": {
     "slide_type": "subslide"
    }
   },
   "source": [
    "We reject the null-hypothesis (as unlikely)."
   ]
  },
  {
   "cell_type": "markdown",
   "metadata": {
    "slideshow": {
     "slide_type": "subslide"
    }
   },
   "source": [
    "- If somebody is a US citizen, he is unlikely to be the US president.\n",
    "\n",
    "- But Barack Obama *is* the US president."
   ]
  },
  {
   "cell_type": "markdown",
   "metadata": {
    "slideshow": {
     "slide_type": "fragment"
    }
   },
   "source": [
    "=> Barack Obama is not a US citizen."
   ]
  },
  {
   "cell_type": "markdown",
   "metadata": {
    "slideshow": {
     "slide_type": "subslide"
    }
   },
   "source": [
    "We reject the claim that president Obama is a US citizen (as unlikely)."
   ]
  },
  {
   "cell_type": "markdown",
   "metadata": {
    "slideshow": {
     "slide_type": "subslide"
    }
   },
   "source": [
    "Birthers are right!"
   ]
  },
  {
   "cell_type": "markdown",
   "metadata": {
    "slideshow": {
     "slide_type": "fragment"
    }
   },
   "source": [
    "(Scientifically proven; p < 0.05.)"
   ]
  },
  {
   "cell_type": "markdown",
   "metadata": {
    "slideshow": {
     "slide_type": "slide"
    }
   },
   "source": [
    "### What is the p-value?"
   ]
  },
  {
   "cell_type": "markdown",
   "metadata": {
    "slideshow": {
     "slide_type": "fragment"
    }
   },
   "source": [
    "We\n",
    "\n",
    "1. **know** that the p-value is the probability of getting such data if the null hypothesis was true,\n",
    "2. **pretend** and act as if the p-value was the probability of the null-hypothesis."
   ]
  },
  {
   "cell_type": "markdown",
   "metadata": {
    "slideshow": {
     "slide_type": "fragment"
    }
   },
   "source": [
    "We reject the null-hypothesis (for being too improbable, as in 2)\n",
    "if the observed data was improbable (as in 1)."
   ]
  },
  {
   "cell_type": "markdown",
   "metadata": {
    "slideshow": {
     "slide_type": "subslide"
    }
   },
   "source": [
    "We all know our Bayes.\n",
    "\n",
    "$$P(H|D) = \\frac{P(D|H)P(H)}{P(D)}$$\n",
    "\n",
    "and\n",
    "\n",
    "$$P(H|D) \\ne P(D|H)$$\n",
    "\n",
    "$P(H|D)$ depends on the prior $P(H)$."
   ]
  },
  {
   "cell_type": "markdown",
   "metadata": {
    "slideshow": {
     "slide_type": "subslide"
    }
   },
   "source": [
    "We all \n",
    "\n",
    "1. **know** that the p-value is the probability of getting such data if the null hypothesis was true,\n",
    "\n",
    "*i.e.* we know that p-value is something we don't care about."
   ]
  },
  {
   "cell_type": "markdown",
   "metadata": {
    "slideshow": {
     "slide_type": "fragment"
    }
   },
   "source": [
    "... except that it has to be < 0.05 so we can publish."
   ]
  },
  {
   "cell_type": "markdown",
   "metadata": {
    "slideshow": {
     "slide_type": "subslide"
    }
   },
   "source": [
    "**p-values are meaningless since they represent the probability that nobody cares about**."
   ]
  },
  {
   "cell_type": "markdown",
   "metadata": {
    "slideshow": {
     "slide_type": "slide"
    }
   },
   "source": [
    "### NHST is asking for wrong interpretations"
   ]
  },
  {
   "cell_type": "markdown",
   "metadata": {
    "slideshow": {
     "slide_type": "subslide"
    }
   },
   "source": [
    "\"* (...) p <0.05, therefore the null-hypothesis is unlikely*\"."
   ]
  },
  {
   "cell_type": "markdown",
   "metadata": {
    "slideshow": {
     "slide_type": "fragment"
    }
   },
   "source": [
    "Wrong. It's not the hypothesis that's unlikely. Just the data."
   ]
  },
  {
   "cell_type": "markdown",
   "metadata": {
    "slideshow": {
     "slide_type": "subslide"
    }
   },
   "source": [
    "\"* (...) p > 0.05, therefore our superfast method is no worse than the existing slow algorithm.*\""
   ]
  },
  {
   "cell_type": "markdown",
   "metadata": {
    "slideshow": {
     "slide_type": "fragment"
    }
   },
   "source": [
    "Wrong. You cannot prove the null. You can only reject it."
   ]
  },
  {
   "cell_type": "markdown",
   "metadata": {
    "slideshow": {
     "slide_type": "subslide"
    }
   },
   "source": [
    "*NHST is a tool and it's not the tool's fault that it's misused.*"
   ]
  },
  {
   "cell_type": "markdown",
   "metadata": {
    "slideshow": {
     "slide_type": "fragment"
    }
   },
   "source": [
    "Objection. NHST is presented as a tool for researchers interested in whether their hypotheses are true or not."
   ]
  },
  {
   "cell_type": "markdown",
   "metadata": {
    "slideshow": {
     "slide_type": "subslide"
    }
   },
   "source": [
    "If you bought a hammer because it was advertised as a tool for cutting meat, you'd send it back to Amazon."
   ]
  },
  {
   "cell_type": "markdown",
   "metadata": {
    "slideshow": {
     "slide_type": "fragment"
    }
   },
   "source": [
    "... and write a nasty review."
   ]
  },
  {
   "cell_type": "markdown",
   "metadata": {
    "slideshow": {
     "slide_type": "slide"
    }
   },
   "source": [
    "### Send the NHST back to ... whom?"
   ]
  },
  {
   "cell_type": "markdown",
   "metadata": {
    "slideshow": {
     "slide_type": "fragment"
    }
   },
   "source": [
    "**Fisher**: p-value as the evidence against the null-hypothesis."
   ]
  },
  {
   "cell_type": "markdown",
   "metadata": {
    "slideshow": {
     "slide_type": "fragment"
    }
   },
   "source": [
    "*Something weird is going on here...*"
   ]
  },
  {
   "cell_type": "markdown",
   "metadata": {
    "slideshow": {
     "slide_type": "fragment"
    }
   },
   "source": [
    "**Neyman & Pearson**: making optimal decisions with respect to probabilities of mutually exclusive hypotheses."
   ]
  },
  {
   "cell_type": "markdown",
   "metadata": {
    "collapsed": true,
    "slideshow": {
     "slide_type": "subslide"
    }
   },
   "source": [
    "Both approaches are correct.   "
   ]
  },
  {
   "cell_type": "markdown",
   "metadata": {
    "slideshow": {
     "slide_type": "fragment"
    }
   },
   "source": [
    "P-values are not unlike likelihoods, which are related to probabilities."
   ]
  },
  {
   "cell_type": "markdown",
   "metadata": {
    "slideshow": {
     "slide_type": "fragment"
    }
   },
   "source": [
    "Deciding between two hypothesis is totally not unlike decision making."
   ]
  },
  {
   "cell_type": "markdown",
   "metadata": {
    "slideshow": {
     "slide_type": "subslide"
    }
   },
   "source": [
    "Their combination is unfortunately not."
   ]
  },
  {
   "cell_type": "markdown",
   "metadata": {
    "slideshow": {
     "slide_type": "subslide"
    }
   },
   "source": [
    "### What brought as here?\n",
    "\n",
    "Combining the two conflicting approaches\n",
    "\n",
    "to satisfy the wish(ful thinking) for a magic bullet for proving hypotheses.\n",
    "\n"
   ]
  },
  {
   "cell_type": "markdown",
   "metadata": {
    "slideshow": {
     "slide_type": "slide"
    }
   },
   "source": [
    "### Back to p < 0.05: Why 0.05?"
   ]
  },
  {
   "cell_type": "markdown",
   "metadata": {
    "slideshow": {
     "slide_type": "fragment"
    }
   },
   "source": [
    "0.05 is the magic $p$-value. Anything below that is success, anything above that is failure."
   ]
  },
  {
   "cell_type": "markdown",
   "metadata": {
    "slideshow": {
     "slide_type": "subslide"
    }
   },
   "source": [
    "Nothing magic about 0.05."
   ]
  },
  {
   "cell_type": "markdown",
   "metadata": {
    "slideshow": {
     "slide_type": "fragment"
    }
   },
   "source": [
    "No reason to print numbers related to $p < 0.05$ in **bold print**."
   ]
  },
  {
   "cell_type": "markdown",
   "metadata": {
    "slideshow": {
     "slide_type": "subslide"
    }
   },
   "source": [
    "Not only is there no sacred critical value."
   ]
  },
  {
   "cell_type": "markdown",
   "metadata": {
    "slideshow": {
     "slide_type": "fragment"
    }
   },
   "source": [
    "There is no way to reason about critical values."
   ]
  },
  {
   "cell_type": "markdown",
   "metadata": {
    "slideshow": {
     "slide_type": "fragment"
    }
   },
   "source": [
    "**P-values are meaningless.**\n",
    "\n",
    "How do you set a reasonable threshold for a meaningless value?"
   ]
  },
  {
   "cell_type": "markdown",
   "metadata": {
    "slideshow": {
     "slide_type": "subslide"
    }
   },
   "source": [
    "No, p = 0.05 doesn't mean we accept 5 % of false alternative hypotheses."
   ]
  },
  {
   "cell_type": "markdown",
   "metadata": {
    "slideshow": {
     "slide_type": "fragment"
    }
   },
   "source": [
    "P-values are not related to probabilities of hypotheses."
   ]
  },
  {
   "cell_type": "markdown",
   "metadata": {
    "slideshow": {
     "slide_type": "subslide"
    }
   },
   "source": [
    "NHST is revolves around the meaningless threshold (0.05) for automatizing decisions about which findings are true and which are random."
   ]
  },
  {
   "cell_type": "markdown",
   "metadata": {
    "slideshow": {
     "slide_type": "subslide"
    }
   },
   "source": [
    "### The null-hypotheses is always false"
   ]
  },
  {
   "cell_type": "markdown",
   "metadata": {
    "slideshow": {
     "slide_type": "fragment"
    }
   },
   "source": [
    "No two classifiers are exactly same (unless they are *the* same classifier)."
   ]
  },
  {
   "cell_type": "markdown",
   "metadata": {
    "slideshow": {
     "slide_type": "fragment"
    }
   },
   "source": [
    "Hence, we should always reject the null-hypothesis. We just need to collect enough data."
   ]
  },
  {
   "cell_type": "markdown",
   "metadata": {
    "slideshow": {
     "slide_type": "subslide"
    }
   },
   "source": [
    "Why go through collecting all the data then, if we already know the end result?"
   ]
  },
  {
   "cell_type": "markdown",
   "metadata": {
    "slideshow": {
     "slide_type": "subslide"
    }
   },
   "source": [
    "Sorry for the spoiler, guys:"
   ]
  },
  {
   "cell_type": "markdown",
   "metadata": {
    "slideshow": {
     "slide_type": "fragment"
    }
   },
   "source": [
    "**The null-hypotheses dies in Section 4.**"
   ]
  },
  {
   "cell_type": "markdown",
   "metadata": {
    "slideshow": {
     "slide_type": "slide"
    }
   },
   "source": [
    "### The p-value does not distinguish between the *effect size* and the *sample size*"
   ]
  },
  {
   "cell_type": "markdown",
   "metadata": {
    "slideshow": {
     "slide_type": "fragment"
    }
   },
   "source": [
    "Arbitrarily small difference between a pair of classifiers (*effect size*) is statistically significant with enough data."
   ]
  },
  {
   "cell_type": "markdown",
   "metadata": {
    "slideshow": {
     "slide_type": "subslide"
    }
   },
   "source": [
    "The p-value is the function of the effect and the sample size."
   ]
  },
  {
   "cell_type": "markdown",
   "metadata": {
    "slideshow": {
     "slide_type": "fragment"
    }
   },
   "source": [
    "The sample size is manipulated by the researcher. Now do the math."
   ]
  },
  {
   "cell_type": "markdown",
   "metadata": {
    "slideshow": {
     "slide_type": "subslide"
    }
   },
   "source": [
    "The p-value is intuitively understood as the indicator of the effect size."
   ]
  },
  {
   "cell_type": "markdown",
   "metadata": {
    "slideshow": {
     "slide_type": "fragment"
    }
   },
   "source": [
    "Wrong. It is the function of effect size and sample size: same p-values do not imply same effect sizes."
   ]
  },
  {
   "cell_type": "markdown",
   "metadata": {
    "slideshow": {
     "slide_type": "subslide"
    }
   },
   "source": [
    "Non-parametric tests make this even worse by ignoring the differences."
   ]
  },
  {
   "cell_type": "markdown",
   "metadata": {
    "slideshow": {
     "slide_type": "fragment"
    }
   },
   "source": [
    "If one classifier consistently beats another, the difference does not matter. "
   ]
  },
  {
   "cell_type": "markdown",
   "metadata": {
    "slideshow": {
     "slide_type": "slide"
    }
   },
   "source": [
    "### Other problems"
   ]
  },
  {
   "cell_type": "markdown",
   "metadata": {
    "slideshow": {
     "slide_type": "fragment"
    }
   },
   "source": [
    "The list goes on and on.\n",
    "\n",
    "- NHST has problems with testing multiple hypotheses.\n",
    "- ... especially with multiple researchers performing similar experiments.\n",
    "- NHST relies on assumptions about distributions.\n",
    "- Sampling intention\n",
    "- Ignoring the data uncertainty\n",
    "- Not saying anything about the alternative hypotheses\n",
    "- ..."
   ]
  },
  {
   "cell_type": "markdown",
   "metadata": {
    "slideshow": {
     "slide_type": "slide"
    }
   },
   "source": [
    "## Abandon null-hypotheses significance tests?"
   ]
  },
  {
   "cell_type": "markdown",
   "metadata": {
    "slideshow": {
     "slide_type": "fragment"
    }
   },
   "source": [
    "Good luck with that."
   ]
  },
  {
   "cell_type": "markdown",
   "metadata": {
    "slideshow": {
     "slide_type": "subslide"
    }
   },
   "source": [
    "Next year it will be 50 years since Meehl wrote:\n",
    "\n",
    "Significance testing is *a potent but sterile intellectual rake who leaves in his merry path a long train of ravished maidens but no viable scientific offspring*."
   ]
  },
  {
   "cell_type": "markdown",
   "metadata": {
    "slideshow": {
     "slide_type": "subslide"
    }
   },
   "source": [
    "The American Statistical Association issued a statement (quote) *to steer research into a ‘post p<0.05 era.’*"
   ]
  },
  {
   "cell_type": "markdown",
   "metadata": {
    "slideshow": {
     "slide_type": "subslide"
    }
   },
   "source": [
    "1. *P-values can indicate how incompatible the data are with a specified statistical model.*\n",
    "2. *P-values do not measure the probability that the studied hypothesis is true, or the\n",
    "probability that the data were produced by random chance alone.*\n",
    "3. *Scientific conclusions and business or policy decisions should not be based only on\n",
    "whether a p-value passes a specific threshold.*\n",
    "4. *Proper inference requires full reporting and transparency.*\n",
    "5. *A p-value, or statistical significance, does not measure the size of an effect or the\n",
    "importance of a result.*\n",
    "6. *By itself, a p-value does not provide a good measure of evidence regarding a model or\n",
    "hypothesis.*"
   ]
  },
  {
   "cell_type": "markdown",
   "metadata": {
    "slideshow": {
     "slide_type": "subslide"
    }
   },
   "source": [
    "The journal of Basic and Applied Social Psychology prohibited the use the p-word in their journal."
   ]
  },
  {
   "cell_type": "markdown",
   "metadata": {
    "slideshow": {
     "slide_type": "slide"
    }
   },
   "source": [
    "(I believe that) NHST was useful\n",
    "\n",
    "- Its logic was wrong.\n",
    "- Its computation was wrong.\n",
    "- But it forced us to collect more data.\n",
    "- It forced us to sometimes concede the defeat."
   ]
  },
  {
   "cell_type": "markdown",
   "metadata": {
    "slideshow": {
     "slide_type": "subslide"
    }
   },
   "source": [
    "- It may have been better than nothing.\n",
    "- We didn't have the necessary computational power for the alternative, better approach."
   ]
  },
  {
   "cell_type": "markdown",
   "metadata": {
    "slideshow": {
     "slide_type": "fragment"
    }
   },
   "source": [
    "But now we do."
   ]
  }
 ],
 "metadata": {
  "celltoolbar": "Slideshow",
  "kernelspec": {
   "display_name": "Python 3",
   "language": "python",
   "name": "python3"
  },
  "language_info": {
   "codemirror_mode": {
    "name": "ipython",
    "version": 3
   },
   "file_extension": ".py",
   "mimetype": "text/x-python",
   "name": "python",
   "nbconvert_exporter": "python",
   "pygments_lexer": "ipython3",
   "version": "3.5.1"
  }
 },
 "nbformat": 4,
 "nbformat_minor": 0
}
