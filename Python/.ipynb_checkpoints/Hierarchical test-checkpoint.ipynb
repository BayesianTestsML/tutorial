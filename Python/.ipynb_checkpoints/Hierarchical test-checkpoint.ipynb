{
 "cells": [
  {
   "cell_type": "markdown",
   "metadata": {},
   "source": [
    "# Bayesian Hierarchical Test\n",
    "\n",
    "Module `hierarchical` in `bayesiantests` compares the performance of two classifiers that have been assessed by *m*-runs of *k*-fold cross-validation on *q* datasets. It returns probabilities that, based on the measured performance, one model is better than another or vice versa or they are within the region of practical equivalence.\n",
    "\n",
    "This notebook demonstrates the use of the module."
   ]
  },
  {
   "cell_type": "markdown",
   "metadata": {
    "collapsed": true
   },
   "source": [
    "We will load the 10-folds, 10-runs cross-validation results of the naive Bayesian classifier and HNB on 54 UCI datasets from the file Data/diffNbcHnb.csv. The file includes the differences of accuracies NBC-HNB in the $10 \\times 10=100$ (columns) ripetions and 54 datasets (rows). A total of 5400 values."
   ]
  },
  {
   "cell_type": "code",
   "execution_count": 1,
   "metadata": {
    "collapsed": false
   },
   "outputs": [
    {
     "name": "stdout",
     "output_type": "stream",
     "text": [
      "[[-0.02222222  0.01111111 -0.02222222 ..., -0.02222222 -0.04494382  0.        ]\n",
      " [ 0.         -0.08695652  0.04347826 ..., -0.09090909  0.         -0.09090909]\n",
      " [ 0.06451613  0.03225806  0.         ...,  0.03333333  0.03333333  0.1       ]\n",
      " ..., \n",
      " [ 0.01428571  0.          0.         ...,  0.02857143  0.01428571  0.        ]\n",
      " [-0.02684564 -0.02684564  0.00671141 ..., -0.02027027  0.01351351\n",
      "   0.01351351]\n",
      " [-0.18181818  0.          0.         ..., -0.2        -0.1         0.        ]]\n"
     ]
    }
   ],
   "source": [
    "import numpy as np\n",
    "scores = np.loadtxt('Data/diffNbcHnb.csv', delimiter=',')\n",
    "names = (\"HNB\", \"NBC\")\n",
    "print(scores)"
   ]
  },
  {
   "cell_type": "markdown",
   "metadata": {},
   "source": [
    "To analyse this data, we will use the function hierarchical in the module bayesiantests that accepts the following arguments.\n",
    "\n",
    "    scores: a 2-d array of differences.\n",
    "    rope: the region of practical equivalence. We consider two classifiers equivalent if the difference in their      \n",
    "          performance is smaller than rope.\n",
    "    rho: correlation due to cross-validation\n",
    "    names: the names of the two classifiers; if x is a vector of differences, positive values mean that the second \n",
    "           (right) model had a higher score.\n",
    "\n",
    "The hierarchical function uses **STAN** through Python module **pystan**."
   ]
  },
  {
   "cell_type": "markdown",
   "metadata": {},
   "source": [
    "### Summarizing probabilities\n",
    "Function `hierarchical(scores,rope,rho, verbose, names=names)`  computes the Bayesian hierarchical test and returns the probabilities that the difference (the score of the first classifier minus the score of the first) is negative, within rope or positive."
   ]
  },
  {
   "cell_type": "code",
   "execution_count": 8,
   "metadata": {
    "collapsed": false
   },
   "outputs": [],
   "source": [
    "import bayesiantests as bt    \n",
    "rope=0.01 #we consider two classifers equivalent when the difference of accuracy is less that 1%\n",
    "rho=1/10 #we are performing 10 folds, 10 runs cross-validation\n",
    "pleft, prope, pright=bt.hierarchical(scores,rope,rho)"
   ]
  },
  {
   "cell_type": "markdown",
   "metadata": {
    "collapsed": false
   },
   "source": [
    "The first value (<code>left</code>) is the probability that the the differences of accuracies is negative (and, therefore, in favor of HNB). The third value (<code>right</code>) is the probability that the the differences of accuracies are positive (and, therefore, in favor of NBC). The second is the probability of the two classifiers to be practically equivalent, i.e., the difference within the rope.\n",
    "\n",
    "In the above case, the HNB performs better than naive Bayes with a probability of 0.9965, and they are practically equivalent with a probability of 0.002. Therefore, we can conclude with high probability that HNB is better than NBC.\n",
    "\n",
    "If we add arguments `verbose` and `names`, the function also prints out the probabilities."
   ]
  },
  {
   "cell_type": "code",
   "execution_count": 9,
   "metadata": {
    "collapsed": false
   },
   "outputs": [
    {
     "name": "stdout",
     "output_type": "stream",
     "text": [
      "P(HNB > NBC) = 0.998, P(rope) = 0.002, P(NBC > HNB) = 0.0\n"
     ]
    }
   ],
   "source": [
    "pl, pe, pr=bt.hierarchical(scores,rope,rho, verbose=True, names=names)"
   ]
  },
  {
   "cell_type": "markdown",
   "metadata": {},
   "source": [
    "The posterior distribution can be plotted out:\n",
    "1. using the function `hierarchical_MC(scores,rope,rho, names=names)` we generate the samples of the posterior\n",
    "2. using the function `plot_posterior(samples,names=('C1', 'C2'))` we then plot the posterior in the probability simplex"
   ]
  },
  {
   "cell_type": "code",
   "execution_count": 10,
   "metadata": {
    "collapsed": false
   },
   "outputs": [
    {
     "data": {
      "image/png": "[encoded data removed]",
      "text/plain": [
       "<matplotlib.figure.Figure at 0x7f824ddfd128>"
      ]
     },
     "metadata": {},
     "output_type": "display_data"
    }
   ],
   "source": [
    "%matplotlib inline\n",
    "import matplotlib.pyplot as plt\n",
    "\n",
    "samples=bt.hierarchical_MC(scores,rope,rho, names=names)\n",
    "\n",
    "#plt.rcParams['figure.facecolor'] = 'black'\n",
    "\n",
    "fig = bt.plot_posterior(samples,names)\n",
    "plt.savefig('triangle_hierarchical.png',facecolor=\"black\")\n",
    "plt.show()"
   ]
  },
  {
   "cell_type": "markdown",
   "metadata": {},
   "source": [
    "It can be seen that the posterior mass is in the region in favor of HNB and so it confirms that the classifier is better than NBC. From the posterior we have also an idea of the magnitude of the uncertainty and the \"stability\" of our inference."
   ]
  },
  {
   "cell_type": "markdown",
   "metadata": {
    "collapsed": false
   },
   "source": [
    "### Checking sensitivity to the prior\n",
    "To functions `hierarchical` allow also to test the effect of the prior hyperparameters. We point to the last reference for a discussion about prior sensitivity.\n"
   ]
  },
  {
   "cell_type": "markdown",
   "metadata": {
    "collapsed": false
   },
   "source": [
    "### References\n",
    "\n",
    "\n",
    "`@ARTICLE{bayesiantests2016,\n",
    "   author = {{Benavoli}, A. and {Corani}, G. and {Demsar}, J. and {Zaffalon}, M.},\n",
    "   title = \"{Time for a change: a tutorial for comparing multiple classifiers through Bayesian analysis}\",\n",
    "   journal = {ArXiv e-prints},\n",
    "   archivePrefix = \"arXiv\",\n",
    "   eprint = {1606.04316},\n",
    "   url={https://arxiv.org/abs/1606.04316},\n",
    "   year = 2016,\n",
    "   month = jun\n",
    "}`\n",
    "\n",
    "`@article{corani2016unpub,\n",
    "title = { Statistical comparison of classifiers through Bayesian hierarchical modelling},\n",
    "author = {Corani, Giorgio and Benavoli, Alessio and Demsar, Janez and Mangili, Francesca and Zaffalon, Marco},\n",
    "url = {http://ipg.idsia.ch/preprints/corani2016b.pdf},\n",
    "year = {2016},\n",
    "date = {2016-01-01},\n",
    "institution = {technical report IDSIA},\n",
    "keywords = {},\n",
    "pubstate = {published},\n",
    "tppubtype = {article}\n",
    "}`\n",
    "\n"
   ]
  }
 ],
 "metadata": {
  "kernelspec": {
   "display_name": "Python 3",
   "language": "python",
   "name": "python3"
  },
  "language_info": {
   "codemirror_mode": {
    "name": "ipython",
    "version": 3
   },
   "file_extension": ".py",
   "mimetype": "text/x-python",
   "name": "python",
   "nbconvert_exporter": "python",
   "pygments_lexer": "ipython3",
   "version": "3.5.2"
  }
 },
 "nbformat": 4,
 "nbformat_minor": 0
}
