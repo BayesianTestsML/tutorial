{
 "cells": [
  {
   "cell_type": "markdown",
   "metadata": {},
   "source": [
    "# Load and Print all the accuracies of the 10 runs 10-fold cross-validation for nbc versus aode on each dataset"
   ]
  },
  {
   "cell_type": "code",
   "execution_count": 8,
   "metadata": {
    "collapsed": false,
    "scrolled": true
   },
   "outputs": [
    {
     "name": "stdout",
     "output_type": "stream",
     "text": [
      "Accuracies for nbc(first row) and aode(second row) on 10 runs of 10-fold cross-validation\n",
      "\n",
      "\n",
      "anneal & 94.44  & 98.89  & 94.44  & 98.89 & \\dots & 94.38 & 97.75\\\\\n",
      "anneal & 96.67  & 100.0  & 96.67  & 100.0 & \\dots & 96.63 & 97.75\\\\\n",
      "audiology & 73.91  & 69.56  & 73.91  & 60.87 & \\dots & 72.73 & 59.09\\\\\n",
      "audiology & 73.91  & 69.56  & 78.26  & 60.87 & \\dots & 72.73 & 59.09\\\\\n"
     ]
    }
   ],
   "source": [
    "ClassID = readdlm(\"Data/ClassifierID.dat\", ',')\n",
    "ClassNames = readdlm(\"Data/ClassifierNames.dat\", ',')\n",
    "DatasetID = readdlm(\"Data/DatasetID.dat\", ',');\n",
    "DatasetNames = readdlm(\"Data/DatasetNames.dat\", ',');\n",
    "Percent_correct = readdlm(\"Data/Percent_correct.dat\", ',');\n",
    "\n",
    "i=1 #nbc\n",
    "j=2 #aode\n",
    "println(\"Accuracies for \", ClassNames[i,1], \"(first row) and \", ClassNames[j,1], \"(second row) on 10 runs of 10-fold cross-validation\")\n",
    "println()\n",
    "println()\n",
    "\n",
    "indi=find(x->x==i,ClassID)\n",
    "indj=find(x->x==j,ClassID)\n",
    "for d=1:Int32(maximum(DatasetID))\n",
    "    indd=find(x->x==d,DatasetID)\n",
    "    indid=intersect(indi,indd)\n",
    "    indjd=intersect(indj,indd)\n",
    "    acci=Percent_correct[indid]\n",
    "    acci=round(acci,2)\n",
    "    accj=Percent_correct[indjd]\n",
    "    accj=round(accj,2)\n",
    "    #Latex Formatted\n",
    "    println(\"$(DatasetNames[d]) & $(acci[1])  & $(acci[2])  & $(acci[3])  & $(acci[4]) & \\\\dots & $(acci[end-1]) & $(acci[end])\\\\\\\\\")\n",
    "    println(\"$(DatasetNames[d]) & $(accj[1])  & $(accj[2])  & $(accj[3])  & $(accj[4]) & \\\\dots & $(accj[end-1]) & $(accj[end])\\\\\\\\\")\n",
    "    if d==2\n",
    "    df= convert(DataFrame, acci')\n",
    "        writetable(\"nbc_audiology.csv\", df )\n",
    "    df=convert(DataFrame, accj')\n",
    "    writetable(\"aode_audiology.csv\", df )\n",
    "    break\n",
    "    end\n",
    "end\n"
   ]
  },
  {
   "cell_type": "markdown",
   "metadata": {},
   "source": [
    "# Hereafter we compute the $p$-values dataset-by-dataset by applying the frequentist correlated t-test"
   ]
  },
  {
   "cell_type": "code",
   "execution_count": 2,
   "metadata": {
    "collapsed": false
   },
   "outputs": [
    {
     "name": "stderr",
     "output_type": "stream",
     "text": [
      "WARNING: Method definition ttest_correlated(Any, Any, Any, Any, Any) in module Main at /home/benavoli/Data/Github/tutorial/Julia/Tests/ttest_correlated.jl:11 overwritten at /home/benavoli/Data/Github/tutorial/Julia/Tests/ttest_correlated.jl:11.\n"
     ]
    },
    {
     "ename": "LoadError",
     "evalue": "LoadError: UndefVarError: ClassNames not defined\nwhile loading In[2], in expression starting on line 11",
     "output_type": "error",
     "traceback": [
      "LoadError: UndefVarError: ClassNames not defined\nwhile loading In[2], in expression starting on line 11",
      ""
     ]
    }
   ],
   "source": [
    "using Distributions\n",
    "using DataFrames\n",
    "include(\"Tests/ttest_correlated.jl\")\n",
    "\n",
    "#correlation for 10 runs 10 folds cross-validation\n",
    "rho=1/10\n",
    "\n",
    "#Classifiers\n",
    "i=1 #nbc\n",
    "j=2 #aode\n",
    "println(\"two-sided p-values for \", ClassNames[i,1], \" vs. \", ClassNames[j,1])\n",
    "println()\n",
    "\n",
    "indi=find(x->x==i,ClassID)\n",
    "indj=find(x->x==j,ClassID)\n",
    "pvalue=Float64[]\n",
    "for d=1:Int32(maximum(DatasetID))\n",
    "    indd=find(x->x==d,DatasetID)\n",
    "    indid=intersect(indi,indd)\n",
    "    indjd=intersect(indj,indd)\n",
    "    acci=Percent_correct[indid]/100\n",
    "    accj=Percent_correct[indjd]/100\n",
    "    #return p-value and confidence interval\n",
    "    p,ci=ttest_correlated(acci-accj,0,rho,0,0.05)\n",
    "    push!(pvalue,p)   \n",
    "    if mod(d,3)==0\n",
    "        # Latex Formatted\n",
    "        @printf \"%s & %1.3f & %s & %1.3f & %s & %1.3f \\\\\\\\\\n\" DatasetNames[d-2] pvalue[d-2] DatasetNames[d-1] pvalue[d-1] DatasetNames[d] pvalue[d]   \n",
    "    end\n",
    "end\n",
    "\n",
    "\n",
    " \n",
    "\n"
   ]
  },
  {
   "cell_type": "markdown",
   "metadata": {
    "collapsed": false
   },
   "source": [
    "# Piechart of the percentage of comparisons that are significant and non-significant"
   ]
  },
  {
   "cell_type": "code",
   "execution_count": 18,
   "metadata": {
    "collapsed": false
   },
   "outputs": [
    {
     "data": {
      "image/png": "[encoded data removed]",
      "text/plain": [
       "PyPlot.Figure(PyObject <matplotlib.figure.Figure object at 0x7fbe7c8e5d90>)"
      ]
     },
     "metadata": {},
     "output_type": "display_data"
    }
   ],
   "source": [
    "using PyPlot\n",
    "\n",
    "res=find(x->x<0.05,pvalue)\n",
    "labels = [\"significant\", \"non-significant\"]\n",
    "\n",
    "\n",
    "colors = [\"salmon\",\"lightsalmon\"]\n",
    "sizes = NaN*zeros(2)\n",
    "explode = zeros(length(sizes))\n",
    "explode[1] = 0.1\n",
    "sizes= [length(res)/length(pvalue)*100, (1-length(res)/length(pvalue))*100 ]\n",
    "\n",
    "fig = figure(\"pyplot_piechart\",figsize=(3,3))\n",
    "    ax = fig[:add_subplot](1,1,1)\n",
    "p,text,autotext=ax[:pie](sizes,\n",
    "        labels=labels,\n",
    "        shadow=false,\n",
    "        startangle=90,\n",
    "         colors=colors,\n",
    "        explode=explode,\n",
    "autopct=\"%1.1f%%\")\n",
    "\n",
    "\n",
    "io=open(\"Plots/piechart.pdf\",\"w\") \n",
    "writemime(io, \"application/pdf\", fig)\n",
    "\n"
   ]
  },
  {
   "cell_type": "code",
   "execution_count": null,
   "metadata": {
    "collapsed": true
   },
   "outputs": [],
   "source": []
  }
 ],
 "metadata": {
  "kernelspec": {
   "display_name": "Julia 0.4.6",
   "language": "julia",
   "name": "julia-0.4"
  },
  "language_info": {
   "file_extension": ".jl",
   "mimetype": "application/julia",
   "name": "julia",
   "version": "0.5.0"
  }
 },
 "nbformat": 4,
 "nbformat_minor": 0
}
